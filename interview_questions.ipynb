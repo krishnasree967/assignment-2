{
 "cells": [
  {
   "cell_type": "markdown",
   "metadata": {},
   "source": [
    "# 1.What is Variable in Python?\n",
    "\n",
    "Variables in Python are reserved memory locations that store values. Whenever a variable is created, some space is reserved in the memory. Based on the data type of a variable, the interpreter will allocate memory and decide what should be stored in the memory."
   ]
  },
  {
   "cell_type": "markdown",
   "metadata": {},
   "source": [
    "# 2.What are number data types in Python?\n",
    "Number data types are the one which is used to store numeric values such as:\n",
    "\n",
    "integer\n",
    "long\n",
    "float\n",
    "complex"
   ]
  },
  {
   "cell_type": "markdown",
   "metadata": {},
   "source": [
    "# 3. what do you mean by python literals?\n",
    " python literals can be defined as data which are given in a variable or constant. there are 5 types of literals in python:\n",
    "  There are 5 types of literals in python:\n",
    "1. String literals\n",
    "2. Numeric literals\n",
    "3. Boolean literals\n",
    "4. Special Literals\n",
    "5.literal collections"
   ]
  },
  {
   "cell_type": "markdown",
   "metadata": {},
   "source": [
    "# 4.How will you convert real numbers to complex numbers?\n",
    "Real numbers can be converted to complex numbers as shown in the following code:\n",
    "\n",
    " a = 7\n",
    " b = -8\n",
    " x = complex(a,b)\n",
    " x.real\n",
    "7.0\n",
    " x.imag\n",
    "-8.0"
   ]
  },
  {
   "cell_type": "markdown",
   "metadata": {},
   "source": [
    "# 5.What is the Arithmetic operator’s precedence in Python?\n",
    "\n",
    "When more than one arithmetic operator appears in an expression the operations will execute in a specific order. In Python, the operation precedence follows as per the acronym PEMDAS.\n",
    "Parenthesis\n",
    "Exponent\n",
    "Multiplication\n",
    "Division\n",
    "Addition\n",
    "Subtraction\n",
    "(2+2)/2-2*2/(2/2)*2\n",
    "= 4/2 -4/1*2\n",
    "= 2-8\n",
    "= -6\n",
    " (2+2)/2-2*2/(2/2)*2\n",
    "-6.0"
   ]
  },
  {
   "cell_type": "markdown",
   "metadata": {},
   "source": [
    "# 6.What are logical operators?\n",
    "\n",
    "Logical operators are generally used in control statements like if and while. They are used to control program flow. The logical operator evaluates a condition and returns “True” or “False” depending on whether the condition evaluates to True or False. Three logical operators in Python are as follows:\n",
    "\n",
    "and\n",
    "or \n",
    "not"
   ]
  },
  {
   "cell_type": "markdown",
   "metadata": {},
   "source": [
    "# 7.What is an expression?\n",
    "\n",
    "A logical line of code that we write while programing, is called expressions. An expression can be broken into operator and operands. It is therefore said that an expression is a combination of one or more operands and zero or more operators that are together used to compute a value.\n",
    "example:\n",
    "a = 6\n",
    "a + b = 9\n",
    "8/7"
   ]
  },
  {
   "cell_type": "markdown",
   "metadata": {},
   "source": [
    "# 8.What is the difference between implicit expression and explicit expression?\n",
    "\n",
    "Conversion is the process of converting one data type into another. Two types of conversion in Python are as follows:\n",
    "\n",
    "1.Implicit type conversion\n",
    "2.Explicit type conversion\n",
    "\n",
    "1.Implicit type conversion:\n",
    ">>> a = 7\n",
    ">>> type(a)\n",
    "Cclass 'int'>\n",
    ">>> b = 8.7\n",
    ">>> type(b)\n",
    "<class 'float'>\n",
    ">>> type(a+b)\n",
    "<class 'float'>\n",
    "\n",
    "2.Explicit type conversion:\n",
    ">>> c = \"12\"\n",
    ">>> type(c)\n",
    "<class 'str'>\n",
    ">>> d = 12\n",
    ">>> c+d\n",
    ">>> int (c) +d 24\n",
    ">>> c+str(d)\n",
    "'1212'\n",
    ">>>"
   ]
  },
  {
   "cell_type": "markdown",
   "metadata": {},
   "source": [
    "# 9. what does the continue Do in python?\n",
    "The continue is a jump statement in Python which moves the control to execute the next iteration in a loop leaving all the remaining instructions in the block unexecuted.\n",
    " \n",
    "The continue statement is applicable for both the “while” and “for” loops.\n"
   ]
  },
  {
   "cell_type": "markdown",
   "metadata": {},
   "source": [
    "# 10. Can you explain the difference between “if” and “else if” statements?\n",
    "\n",
    "An “if” statement checks a condition and executes the code block if it’s true. It initiates the conditional check. An “else if” statement, on the other hand, is used after an initial “if” statement and serves to check additional conditions if the previous ones were false. Essentially, “if” starts the conditional chain, while “else if” continues it by providing alternative paths for the program flow based on different conditions."
   ]
  },
  {
   "cell_type": "markdown",
   "metadata": {},
   "source": [
    "# 11. Can you give an example of how you would use a Boolean in a conditional statement?\n",
    "A Boolean in a conditional statement can be used to control program flow. For instance, consider an online shopping platform where users must be logged in to make purchases. Here’s how we could use a Boolean:\n",
    "\n",
    "isLoggedIn = False\n",
    "def purchaseItem():\n",
    "    if isLoggedIn:\n",
    "        print(\"Purchase successful.\")\n",
    "    else:\n",
    "        print(\"Please log in first.\")\n",
    "purchaseItem()"
   ]
  },
  {
   "cell_type": "markdown",
   "metadata": {},
   "source": [
    "# 12.What is the difference between the continue and pass statement?\n",
    "\n",
    "pass does nothing whereas continue starts the next iteration of the loop."
   ]
  },
  {
   "cell_type": "markdown",
   "metadata": {},
   "source": [
    "# 13.When would you use a continue statement in a for loop?\n",
    "\n",
    "When processing a particular item was complete; to move on to the next, without executing further processing in the block.\n",
    "The continued statement says, I’m done processing this item, move on to the next item.\n"
   ]
  },
  {
   "cell_type": "markdown",
   "metadata": {},
   "source": [
    "# 14. What Does The Continue Do In Python?\n",
    "The continue is a jump statement in Python which moves the control to execute the next iteration in a loop leaving all the remaining instructions \n",
    "in the block unexecuted.\n",
    "it is applicable for \"while\" & \"for\" loop.\n"
   ]
  },
  {
   "cell_type": "markdown",
   "metadata": {},
   "source": [
    "# 15. What is pass in Python?\n",
    " Pass means, no-operation Python statement, or in other words it is a place holder in compound statement, where there should be a blank left and nothing has to be written there.\n",
    "."
   ]
  },
  {
   "cell_type": "markdown",
   "metadata": {},
   "source": [
    "# 16. What are the two types of functions in Python?\n",
    "There are two types of functions in Python: built-in functions and user-defined functions. Built-in functions are functions that are already\n",
    "defined in the Python language, such as the print() function. User-defined functions are functions that are created by the user, and they can be created to do anything that the user wants them to do."
   ]
  },
  {
   "cell_type": "markdown",
   "metadata": {},
   "source": [
    "# 17.What is Floor Division Python?\n",
    "\n",
    " The Floor Operator is used to make a Division that results in the whole number adjusted to the left in the number line.\n"
   ]
  },
  {
   "cell_type": "markdown",
   "metadata": {},
   "source": [
    "# 18.Can you explain what a call graph is? How do you create one?\n",
    "A call graph is a visual representation of the relationships between the various functions in a Python program. It can be used to help debug code, optimize code, and understand code flow. To create a call graph, you can use the pycallgraph library\n"
   ]
  },
  {
   "cell_type": "markdown",
   "metadata": {},
   "source": [
    "#19. Differentiate between lists and tuples.\n",
    " The major difference is that a list is mutable, but a tuple is immutable. Examples:\n",
    ">>> mylist=[1,3,3]\n",
    ">>> mylist[1]=2\n",
    ">>> mytuple=(1,3,3)\n",
    ">>> mytuple[1]=2\n",
    "Traceback (most recent call last):\n",
    "\n",
    "File “<pyshell#97>”, line 1, in <module>\n",
    "\n",
    "mytuple[1]=2\n",
    "\n",
    "TypeError: ‘tuple’ object does not support item assignment\n",
    "\n",
    "Python Tuples vs Lists – A Detailed Comparison\n"
   ]
  },
  {
   "cell_type": "markdown",
   "metadata": {},
   "source": [
    "#20.What are negative indices?\n",
    "Let’s take a list for this.\n",
    "\n",
    ">>> mylist=[0,1,2,3,4,5,6,7,8]\n",
    "A negative index, unlike a positive one, begins searching from the right.\n",
    "\n",
    ">>> mylist[-3]\n",
    "6\n",
    "\n",
    "This also helps with slicing from the back:\n",
    "\n",
    ">>> mylist[-6:-1]\n",
    "[3, 4, 5, 6, 7]\n"
   ]
  }
 ],
 "metadata": {
  "language_info": {
   "name": "python"
  }
 },
 "nbformat": 4,
 "nbformat_minor": 2
}
